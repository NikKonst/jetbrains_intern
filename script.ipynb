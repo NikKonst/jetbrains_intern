{
 "cells": [
  {
   "cell_type": "code",
   "execution_count": 392,
   "metadata": {},
   "outputs": [],
   "source": [
    "import pandas as pd\n",
    "import seaborn as sns\n",
    "from sklearn.preprocessing import StandardScaler\n",
    "from sklearn.decomposition import PCA\n",
    "import matplotlib.pyplot as plt\n",
    "\n",
    "DATA_PATH = 'data/'\n",
    "filtered_cytosines_freq_path = f'{DATA_PATH}filtered_cytosines_freq.tsv'\n",
    "filtered_cytosines_coverage_path = f'{DATA_PATH}filtered_cytosines_coverage.tsv'\n",
    "cpg_islands_annotation_path = f'{DATA_PATH}cpgIslandExt.txt'"
   ]
  },
  {
   "cell_type": "markdown",
   "metadata": {},
   "source": [
    "# 1. Download Data"
   ]
  },
  {
   "cell_type": "code",
   "execution_count": null,
   "metadata": {
    "scrolled": true
   },
   "outputs": [],
   "source": [
    "!wget -P {DATA_PATH} https://artyomovlab.wustl.edu/publications/supp_materials/aging/rrbs/filtered_cytosines_freq.tsv.gz\n",
    "!wget -P {DATA_PATH} https://artyomovlab.wustl.edu/publications/supp_materials/aging/rrbs/filtered_cytosines_coverage.tsv.gz"
   ]
  },
  {
   "cell_type": "markdown",
   "metadata": {},
   "source": [
    "Unzip data"
   ]
  },
  {
   "cell_type": "code",
   "execution_count": 5,
   "metadata": {},
   "outputs": [],
   "source": [
    "!gzip -d {filtered_cytosines_freq_path}\n",
    "!gzip -d {filtered_cytosines_coverage_path}"
   ]
  },
  {
   "cell_type": "markdown",
   "metadata": {},
   "source": [
    "Download CpG islands annotation"
   ]
  },
  {
   "cell_type": "code",
   "execution_count": null,
   "metadata": {
    "scrolled": true
   },
   "outputs": [],
   "source": [
    "!wget -P {DATA_PATH} http://hgdownload.cse.ucsc.edu/goldenpath/hg19/database/cpgIslandExt.txt.gz"
   ]
  },
  {
   "cell_type": "code",
   "execution_count": 14,
   "metadata": {},
   "outputs": [],
   "source": [
    "!gzip -d {cpg_islands_annotation_path}"
   ]
  },
  {
   "cell_type": "markdown",
   "metadata": {},
   "source": [
    "Read to pandas DataFrame and separate position from chr name"
   ]
  },
  {
   "cell_type": "code",
   "execution_count": 264,
   "metadata": {},
   "outputs": [],
   "source": [
    "filtered_cytosines_freq = pd.read_csv(filtered_cytosines_freq_path, sep='\\t')\n",
    "filtered_cytosines_coverage = pd.read_csv(filtered_cytosines_coverage_path, sep='\\t')\n",
    "cpg_islands_annotation = pd.read_csv(cpg_islands_annotation_path, sep='\\t', header=None)"
   ]
  },
  {
   "cell_type": "code",
   "execution_count": 265,
   "metadata": {},
   "outputs": [],
   "source": [
    "filtered_cytosines_freq[['chr', 'base']] = filtered_cytosines_freq.chrBase.str.split('.', expand=True)\n",
    "filtered_cytosines_coverage[['chr', 'base']] = filtered_cytosines_coverage.chrBase.str.split('.', expand=True)"
   ]
  },
  {
   "cell_type": "code",
   "execution_count": 266,
   "metadata": {},
   "outputs": [],
   "source": [
    "cols = filtered_cytosines_freq.columns.tolist()\n",
    "cols = cols[-2:] + cols[:-2]\n",
    "filtered_cytosines_freq = filtered_cytosines_freq[cols]\n",
    "\n",
    "cols = filtered_cytosines_coverage.columns.tolist()\n",
    "cols = cols[-2:] + cols[:-2]\n",
    "filtered_cytosines_coverage = filtered_cytosines_coverage[cols]"
   ]
  },
  {
   "cell_type": "code",
   "execution_count": 267,
   "metadata": {},
   "outputs": [],
   "source": [
    "filtered_cytosines_freq.base = pd.to_numeric(filtered_cytosines_freq.base)\n",
    "filtered_cytosines_coverage.base = pd.to_numeric(filtered_cytosines_coverage.base)"
   ]
  },
  {
   "cell_type": "code",
   "execution_count": 268,
   "metadata": {},
   "outputs": [
    {
     "data": {
      "text/html": [
       "<div>\n",
       "<style scoped>\n",
       "    .dataframe tbody tr th:only-of-type {\n",
       "        vertical-align: middle;\n",
       "    }\n",
       "\n",
       "    .dataframe tbody tr th {\n",
       "        vertical-align: top;\n",
       "    }\n",
       "\n",
       "    .dataframe thead th {\n",
       "        text-align: right;\n",
       "    }\n",
       "</style>\n",
       "<table border=\"1\" class=\"dataframe\">\n",
       "  <thead>\n",
       "    <tr style=\"text-align: right;\">\n",
       "      <th></th>\n",
       "      <th>chr</th>\n",
       "      <th>base</th>\n",
       "      <th>chrBase</th>\n",
       "      <th>OD10</th>\n",
       "      <th>OD11</th>\n",
       "      <th>OD12</th>\n",
       "      <th>OD13</th>\n",
       "      <th>OD14</th>\n",
       "      <th>OD15</th>\n",
       "      <th>OD16</th>\n",
       "      <th>...</th>\n",
       "      <th>YD20</th>\n",
       "      <th>YD21</th>\n",
       "      <th>YD2</th>\n",
       "      <th>YD3</th>\n",
       "      <th>YD4</th>\n",
       "      <th>YD5</th>\n",
       "      <th>YD6</th>\n",
       "      <th>YD7</th>\n",
       "      <th>YD8</th>\n",
       "      <th>YD9</th>\n",
       "    </tr>\n",
       "  </thead>\n",
       "  <tbody>\n",
       "    <tr>\n",
       "      <th>265923</th>\n",
       "      <td>chr10</td>\n",
       "      <td>26505034</td>\n",
       "      <td>chr10.26505034</td>\n",
       "      <td>0.000</td>\n",
       "      <td>0.000</td>\n",
       "      <td>0.000</td>\n",
       "      <td>0.000</td>\n",
       "      <td>0.000</td>\n",
       "      <td>0.000</td>\n",
       "      <td>0.000</td>\n",
       "      <td>...</td>\n",
       "      <td>0.000</td>\n",
       "      <td>0.000</td>\n",
       "      <td>0.000</td>\n",
       "      <td>0.000</td>\n",
       "      <td>0.000</td>\n",
       "      <td>0.000</td>\n",
       "      <td>0.000</td>\n",
       "      <td>0.000</td>\n",
       "      <td>0.000</td>\n",
       "      <td>0.000</td>\n",
       "    </tr>\n",
       "    <tr>\n",
       "      <th>130665</th>\n",
       "      <td>chr1</td>\n",
       "      <td>63149397</td>\n",
       "      <td>chr1.63149397</td>\n",
       "      <td>94.737</td>\n",
       "      <td>95.385</td>\n",
       "      <td>100.000</td>\n",
       "      <td>100.000</td>\n",
       "      <td>85.714</td>\n",
       "      <td>100.000</td>\n",
       "      <td>100.000</td>\n",
       "      <td>...</td>\n",
       "      <td>100.000</td>\n",
       "      <td>90.476</td>\n",
       "      <td>100.000</td>\n",
       "      <td>100.000</td>\n",
       "      <td>100.000</td>\n",
       "      <td>100.000</td>\n",
       "      <td>100.000</td>\n",
       "      <td>100.000</td>\n",
       "      <td>100.000</td>\n",
       "      <td>83.333</td>\n",
       "    </tr>\n",
       "    <tr>\n",
       "      <th>1193177</th>\n",
       "      <td>chr18</td>\n",
       "      <td>5543054</td>\n",
       "      <td>chr18.5543054</td>\n",
       "      <td>0.000</td>\n",
       "      <td>0.000</td>\n",
       "      <td>0.000</td>\n",
       "      <td>0.000</td>\n",
       "      <td>0.000</td>\n",
       "      <td>0.000</td>\n",
       "      <td>0.000</td>\n",
       "      <td>...</td>\n",
       "      <td>0.000</td>\n",
       "      <td>0.000</td>\n",
       "      <td>0.000</td>\n",
       "      <td>0.000</td>\n",
       "      <td>0.000</td>\n",
       "      <td>0.000</td>\n",
       "      <td>0.000</td>\n",
       "      <td>0.000</td>\n",
       "      <td>0.000</td>\n",
       "      <td>0.000</td>\n",
       "    </tr>\n",
       "    <tr>\n",
       "      <th>71137</th>\n",
       "      <td>chr1</td>\n",
       "      <td>21865056</td>\n",
       "      <td>chr1.21865056</td>\n",
       "      <td>47.826</td>\n",
       "      <td>36.923</td>\n",
       "      <td>42.149</td>\n",
       "      <td>34.615</td>\n",
       "      <td>6.250</td>\n",
       "      <td>35.556</td>\n",
       "      <td>17.647</td>\n",
       "      <td>...</td>\n",
       "      <td>38.571</td>\n",
       "      <td>40.323</td>\n",
       "      <td>45.161</td>\n",
       "      <td>27.778</td>\n",
       "      <td>39.394</td>\n",
       "      <td>42.857</td>\n",
       "      <td>51.852</td>\n",
       "      <td>43.333</td>\n",
       "      <td>59.259</td>\n",
       "      <td>53.571</td>\n",
       "    </tr>\n",
       "    <tr>\n",
       "      <th>2473677</th>\n",
       "      <td>chr7</td>\n",
       "      <td>155898333</td>\n",
       "      <td>chr7.155898333</td>\n",
       "      <td>91.667</td>\n",
       "      <td>100.000</td>\n",
       "      <td>100.000</td>\n",
       "      <td>100.000</td>\n",
       "      <td>100.000</td>\n",
       "      <td>100.000</td>\n",
       "      <td>100.000</td>\n",
       "      <td>...</td>\n",
       "      <td>100.000</td>\n",
       "      <td>100.000</td>\n",
       "      <td>78.261</td>\n",
       "      <td>100.000</td>\n",
       "      <td>85.714</td>\n",
       "      <td>80.000</td>\n",
       "      <td>81.818</td>\n",
       "      <td>81.818</td>\n",
       "      <td>86.667</td>\n",
       "      <td>100.000</td>\n",
       "    </tr>\n",
       "  </tbody>\n",
       "</table>\n",
       "<p>5 rows × 43 columns</p>\n",
       "</div>"
      ],
      "text/plain": [
       "           chr       base         chrBase    OD10     OD11     OD12     OD13  \\\n",
       "265923   chr10   26505034  chr10.26505034   0.000    0.000    0.000    0.000   \n",
       "130665    chr1   63149397   chr1.63149397  94.737   95.385  100.000  100.000   \n",
       "1193177  chr18    5543054   chr18.5543054   0.000    0.000    0.000    0.000   \n",
       "71137     chr1   21865056   chr1.21865056  47.826   36.923   42.149   34.615   \n",
       "2473677   chr7  155898333  chr7.155898333  91.667  100.000  100.000  100.000   \n",
       "\n",
       "            OD14     OD15     OD16  ...     YD20     YD21      YD2      YD3  \\\n",
       "265923     0.000    0.000    0.000  ...    0.000    0.000    0.000    0.000   \n",
       "130665    85.714  100.000  100.000  ...  100.000   90.476  100.000  100.000   \n",
       "1193177    0.000    0.000    0.000  ...    0.000    0.000    0.000    0.000   \n",
       "71137      6.250   35.556   17.647  ...   38.571   40.323   45.161   27.778   \n",
       "2473677  100.000  100.000  100.000  ...  100.000  100.000   78.261  100.000   \n",
       "\n",
       "             YD4      YD5      YD6      YD7      YD8      YD9  \n",
       "265923     0.000    0.000    0.000    0.000    0.000    0.000  \n",
       "130665   100.000  100.000  100.000  100.000  100.000   83.333  \n",
       "1193177    0.000    0.000    0.000    0.000    0.000    0.000  \n",
       "71137     39.394   42.857   51.852   43.333   59.259   53.571  \n",
       "2473677   85.714   80.000   81.818   81.818   86.667  100.000  \n",
       "\n",
       "[5 rows x 43 columns]"
      ]
     },
     "execution_count": 268,
     "metadata": {},
     "output_type": "execute_result"
    }
   ],
   "source": [
    "filtered_cytosines_freq.sample(5)"
   ]
  },
  {
   "cell_type": "code",
   "execution_count": 269,
   "metadata": {},
   "outputs": [
    {
     "data": {
      "text/html": [
       "<div>\n",
       "<style scoped>\n",
       "    .dataframe tbody tr th:only-of-type {\n",
       "        vertical-align: middle;\n",
       "    }\n",
       "\n",
       "    .dataframe tbody tr th {\n",
       "        vertical-align: top;\n",
       "    }\n",
       "\n",
       "    .dataframe thead th {\n",
       "        text-align: right;\n",
       "    }\n",
       "</style>\n",
       "<table border=\"1\" class=\"dataframe\">\n",
       "  <thead>\n",
       "    <tr style=\"text-align: right;\">\n",
       "      <th></th>\n",
       "      <th>chr</th>\n",
       "      <th>base</th>\n",
       "      <th>chrBase</th>\n",
       "      <th>OD10</th>\n",
       "      <th>OD11</th>\n",
       "      <th>OD12</th>\n",
       "      <th>OD13</th>\n",
       "      <th>OD14</th>\n",
       "      <th>OD15</th>\n",
       "      <th>OD16</th>\n",
       "      <th>...</th>\n",
       "      <th>YD20</th>\n",
       "      <th>YD21</th>\n",
       "      <th>YD2</th>\n",
       "      <th>YD3</th>\n",
       "      <th>YD4</th>\n",
       "      <th>YD5</th>\n",
       "      <th>YD6</th>\n",
       "      <th>YD7</th>\n",
       "      <th>YD8</th>\n",
       "      <th>YD9</th>\n",
       "    </tr>\n",
       "  </thead>\n",
       "  <tbody>\n",
       "    <tr>\n",
       "      <th>447565</th>\n",
       "      <td>chr11</td>\n",
       "      <td>65341801</td>\n",
       "      <td>chr11.65341801</td>\n",
       "      <td>30.0</td>\n",
       "      <td>1.0</td>\n",
       "      <td>8.0</td>\n",
       "      <td>47.0</td>\n",
       "      <td>22.0</td>\n",
       "      <td>29.0</td>\n",
       "      <td>24.0</td>\n",
       "      <td>...</td>\n",
       "      <td>13.0</td>\n",
       "      <td>100.0</td>\n",
       "      <td>25.0</td>\n",
       "      <td>42.0</td>\n",
       "      <td>37.0</td>\n",
       "      <td>32.0</td>\n",
       "      <td>42.0</td>\n",
       "      <td>25.0</td>\n",
       "      <td>19.0</td>\n",
       "      <td>32.0</td>\n",
       "    </tr>\n",
       "    <tr>\n",
       "      <th>2344239</th>\n",
       "      <td>chr7</td>\n",
       "      <td>1589295</td>\n",
       "      <td>chr7.1589295</td>\n",
       "      <td>85.0</td>\n",
       "      <td>65.0</td>\n",
       "      <td>72.0</td>\n",
       "      <td>58.0</td>\n",
       "      <td>49.0</td>\n",
       "      <td>62.0</td>\n",
       "      <td>50.0</td>\n",
       "      <td>...</td>\n",
       "      <td>116.0</td>\n",
       "      <td>94.0</td>\n",
       "      <td>46.0</td>\n",
       "      <td>59.0</td>\n",
       "      <td>44.0</td>\n",
       "      <td>63.0</td>\n",
       "      <td>41.0</td>\n",
       "      <td>35.0</td>\n",
       "      <td>37.0</td>\n",
       "      <td>57.0</td>\n",
       "    </tr>\n",
       "    <tr>\n",
       "      <th>553624</th>\n",
       "      <td>chr12</td>\n",
       "      <td>51460192</td>\n",
       "      <td>chr12.51460192</td>\n",
       "      <td>9.0</td>\n",
       "      <td>15.0</td>\n",
       "      <td>20.0</td>\n",
       "      <td>7.0</td>\n",
       "      <td>16.0</td>\n",
       "      <td>11.0</td>\n",
       "      <td>17.0</td>\n",
       "      <td>...</td>\n",
       "      <td>21.0</td>\n",
       "      <td>9.0</td>\n",
       "      <td>10.0</td>\n",
       "      <td>3.0</td>\n",
       "      <td>6.0</td>\n",
       "      <td>14.0</td>\n",
       "      <td>10.0</td>\n",
       "      <td>5.0</td>\n",
       "      <td>19.0</td>\n",
       "      <td>8.0</td>\n",
       "    </tr>\n",
       "    <tr>\n",
       "      <th>2525074</th>\n",
       "      <td>chr8</td>\n",
       "      <td>47155784</td>\n",
       "      <td>chr8.47155784</td>\n",
       "      <td>89.0</td>\n",
       "      <td>123.0</td>\n",
       "      <td>172.0</td>\n",
       "      <td>76.0</td>\n",
       "      <td>106.0</td>\n",
       "      <td>99.0</td>\n",
       "      <td>79.0</td>\n",
       "      <td>...</td>\n",
       "      <td>106.0</td>\n",
       "      <td>93.0</td>\n",
       "      <td>111.0</td>\n",
       "      <td>68.0</td>\n",
       "      <td>90.0</td>\n",
       "      <td>71.0</td>\n",
       "      <td>80.0</td>\n",
       "      <td>90.0</td>\n",
       "      <td>109.0</td>\n",
       "      <td>96.0</td>\n",
       "    </tr>\n",
       "    <tr>\n",
       "      <th>1663909</th>\n",
       "      <td>chr20</td>\n",
       "      <td>31054262</td>\n",
       "      <td>chr20.31054262</td>\n",
       "      <td>64.0</td>\n",
       "      <td>17.0</td>\n",
       "      <td>36.0</td>\n",
       "      <td>86.0</td>\n",
       "      <td>94.0</td>\n",
       "      <td>111.0</td>\n",
       "      <td>65.0</td>\n",
       "      <td>...</td>\n",
       "      <td>49.0</td>\n",
       "      <td>46.0</td>\n",
       "      <td>81.0</td>\n",
       "      <td>100.0</td>\n",
       "      <td>73.0</td>\n",
       "      <td>92.0</td>\n",
       "      <td>102.0</td>\n",
       "      <td>88.0</td>\n",
       "      <td>70.0</td>\n",
       "      <td>77.0</td>\n",
       "    </tr>\n",
       "  </tbody>\n",
       "</table>\n",
       "<p>5 rows × 43 columns</p>\n",
       "</div>"
      ],
      "text/plain": [
       "           chr      base         chrBase  OD10   OD11   OD12  OD13   OD14  \\\n",
       "447565   chr11  65341801  chr11.65341801  30.0    1.0    8.0  47.0   22.0   \n",
       "2344239   chr7   1589295    chr7.1589295  85.0   65.0   72.0  58.0   49.0   \n",
       "553624   chr12  51460192  chr12.51460192   9.0   15.0   20.0   7.0   16.0   \n",
       "2525074   chr8  47155784   chr8.47155784  89.0  123.0  172.0  76.0  106.0   \n",
       "1663909  chr20  31054262  chr20.31054262  64.0   17.0   36.0  86.0   94.0   \n",
       "\n",
       "          OD15  OD16  ...   YD20   YD21    YD2    YD3   YD4   YD5    YD6  \\\n",
       "447565    29.0  24.0  ...   13.0  100.0   25.0   42.0  37.0  32.0   42.0   \n",
       "2344239   62.0  50.0  ...  116.0   94.0   46.0   59.0  44.0  63.0   41.0   \n",
       "553624    11.0  17.0  ...   21.0    9.0   10.0    3.0   6.0  14.0   10.0   \n",
       "2525074   99.0  79.0  ...  106.0   93.0  111.0   68.0  90.0  71.0   80.0   \n",
       "1663909  111.0  65.0  ...   49.0   46.0   81.0  100.0  73.0  92.0  102.0   \n",
       "\n",
       "          YD7    YD8   YD9  \n",
       "447565   25.0   19.0  32.0  \n",
       "2344239  35.0   37.0  57.0  \n",
       "553624    5.0   19.0   8.0  \n",
       "2525074  90.0  109.0  96.0  \n",
       "1663909  88.0   70.0  77.0  \n",
       "\n",
       "[5 rows x 43 columns]"
      ]
     },
     "execution_count": 269,
     "metadata": {},
     "output_type": "execute_result"
    }
   ],
   "source": [
    "filtered_cytosines_coverage.sample(5)"
   ]
  },
  {
   "cell_type": "code",
   "execution_count": 270,
   "metadata": {},
   "outputs": [
    {
     "data": {
      "text/html": [
       "<div>\n",
       "<style scoped>\n",
       "    .dataframe tbody tr th:only-of-type {\n",
       "        vertical-align: middle;\n",
       "    }\n",
       "\n",
       "    .dataframe tbody tr th {\n",
       "        vertical-align: top;\n",
       "    }\n",
       "\n",
       "    .dataframe thead th {\n",
       "        text-align: right;\n",
       "    }\n",
       "</style>\n",
       "<table border=\"1\" class=\"dataframe\">\n",
       "  <thead>\n",
       "    <tr style=\"text-align: right;\">\n",
       "      <th></th>\n",
       "      <th>0</th>\n",
       "      <th>1</th>\n",
       "      <th>2</th>\n",
       "      <th>3</th>\n",
       "      <th>4</th>\n",
       "      <th>5</th>\n",
       "      <th>6</th>\n",
       "      <th>7</th>\n",
       "      <th>8</th>\n",
       "      <th>9</th>\n",
       "      <th>10</th>\n",
       "    </tr>\n",
       "  </thead>\n",
       "  <tbody>\n",
       "    <tr>\n",
       "      <th>17334</th>\n",
       "      <td>735</td>\n",
       "      <td>chr20</td>\n",
       "      <td>19738039</td>\n",
       "      <td>19739773</td>\n",
       "      <td>CpG: 128</td>\n",
       "      <td>1734</td>\n",
       "      <td>128</td>\n",
       "      <td>1111</td>\n",
       "      <td>14.8</td>\n",
       "      <td>64.1</td>\n",
       "      <td>0.73</td>\n",
       "    </tr>\n",
       "    <tr>\n",
       "      <th>23721</th>\n",
       "      <td>1783</td>\n",
       "      <td>chr6</td>\n",
       "      <td>157040983</td>\n",
       "      <td>157041385</td>\n",
       "      <td>CpG: 39</td>\n",
       "      <td>402</td>\n",
       "      <td>39</td>\n",
       "      <td>279</td>\n",
       "      <td>19.4</td>\n",
       "      <td>69.4</td>\n",
       "      <td>0.81</td>\n",
       "    </tr>\n",
       "    <tr>\n",
       "      <th>7932</th>\n",
       "      <td>826</td>\n",
       "      <td>chr15</td>\n",
       "      <td>31664258</td>\n",
       "      <td>31664540</td>\n",
       "      <td>CpG: 36</td>\n",
       "      <td>282</td>\n",
       "      <td>36</td>\n",
       "      <td>203</td>\n",
       "      <td>25.5</td>\n",
       "      <td>72.0</td>\n",
       "      <td>1.03</td>\n",
       "    </tr>\n",
       "    <tr>\n",
       "      <th>676</th>\n",
       "      <td>782</td>\n",
       "      <td>chr1</td>\n",
       "      <td>25869893</td>\n",
       "      <td>25871042</td>\n",
       "      <td>CpG: 116</td>\n",
       "      <td>1149</td>\n",
       "      <td>116</td>\n",
       "      <td>810</td>\n",
       "      <td>20.2</td>\n",
       "      <td>70.5</td>\n",
       "      <td>0.82</td>\n",
       "    </tr>\n",
       "    <tr>\n",
       "      <th>28994</th>\n",
       "      <td>587</td>\n",
       "      <td>chrX</td>\n",
       "      <td>331056</td>\n",
       "      <td>331299</td>\n",
       "      <td>CpG: 19</td>\n",
       "      <td>243</td>\n",
       "      <td>19</td>\n",
       "      <td>169</td>\n",
       "      <td>15.6</td>\n",
       "      <td>69.5</td>\n",
       "      <td>0.65</td>\n",
       "    </tr>\n",
       "  </tbody>\n",
       "</table>\n",
       "</div>"
      ],
      "text/plain": [
       "         0      1          2          3         4     5    6     7     8   \\\n",
       "17334   735  chr20   19738039   19739773  CpG: 128  1734  128  1111  14.8   \n",
       "23721  1783   chr6  157040983  157041385   CpG: 39   402   39   279  19.4   \n",
       "7932    826  chr15   31664258   31664540   CpG: 36   282   36   203  25.5   \n",
       "676     782   chr1   25869893   25871042  CpG: 116  1149  116   810  20.2   \n",
       "28994   587   chrX     331056     331299   CpG: 19   243   19   169  15.6   \n",
       "\n",
       "         9     10  \n",
       "17334  64.1  0.73  \n",
       "23721  69.4  0.81  \n",
       "7932   72.0  1.03  \n",
       "676    70.5  0.82  \n",
       "28994  69.5  0.65  "
      ]
     },
     "execution_count": 270,
     "metadata": {},
     "output_type": "execute_result"
    }
   ],
   "source": [
    "cpg_islands_annotation.sample(5)"
   ]
  },
  {
   "cell_type": "markdown",
   "metadata": {},
   "source": [
    "# 2. Count CpG islands with CpG cytosines"
   ]
  },
  {
   "cell_type": "markdown",
   "metadata": {},
   "source": [
    "Сначала для каждого цитозина посчитаем среднее количество по всем донорам (смотрим именно на наличие СpG цитозина isna)"
   ]
  },
  {
   "cell_type": "code",
   "execution_count": 282,
   "metadata": {},
   "outputs": [],
   "source": [
    "filtered_cytosines_coverage['avg_cpg_cyt'] = filtered_cytosines_coverage.iloc[:, 3:].notna().mean(axis=1)"
   ]
  },
  {
   "cell_type": "markdown",
   "metadata": {},
   "source": [
    "Далее сохраним датасеты как бедфайлы и пересечем при помощи bedtools"
   ]
  },
  {
   "cell_type": "code",
   "execution_count": 283,
   "metadata": {},
   "outputs": [],
   "source": [
    "filtered_cytosines_coverage_bed = filtered_cytosines_coverage.copy()\n",
    "filtered_cytosines_coverage_bed['baseE'] = filtered_cytosines_coverage_bed['base']\n",
    "filtered_cytosines_coverage_bed[['chr', 'base', 'baseE', 'avg_cpg_cyt']].to_csv(f'{DATA_PATH}filtered_cytosines_coverage.bed', sep='\\t', index=None, header=None)\n",
    "\n",
    "cpg_islands_annotation[[1, 2, 3]].to_csv(f'{DATA_PATH}cpgIslandExt.bed', sep='\\t', index=None, header=None)"
   ]
  },
  {
   "cell_type": "code",
   "execution_count": 285,
   "metadata": {},
   "outputs": [],
   "source": [
    "!conda run bedtools intersect -wa -wb -a {DATA_PATH}cpgIslandExt.bed -b {DATA_PATH}filtered_cytosines_coverage.bed > {DATA_PATH}interseq.bed "
   ]
  },
  {
   "cell_type": "code",
   "execution_count": 288,
   "metadata": {},
   "outputs": [],
   "source": [
    "interseq = pd.read_csv(f'{DATA_PATH}interseq.bed', sep='\\t', header=None)"
   ]
  },
  {
   "cell_type": "markdown",
   "metadata": {},
   "source": [
    "Посчитаем среднее по донорам количество цитозинов попавших в каждый остров (сгруппировав и проссумировав по островам)"
   ]
  },
  {
   "cell_type": "code",
   "execution_count": 295,
   "metadata": {},
   "outputs": [
    {
     "data": {
      "text/html": [
       "<div>\n",
       "<style scoped>\n",
       "    .dataframe tbody tr th:only-of-type {\n",
       "        vertical-align: middle;\n",
       "    }\n",
       "\n",
       "    .dataframe tbody tr th {\n",
       "        vertical-align: top;\n",
       "    }\n",
       "\n",
       "    .dataframe thead th {\n",
       "        text-align: right;\n",
       "    }\n",
       "</style>\n",
       "<table border=\"1\" class=\"dataframe\">\n",
       "  <thead>\n",
       "    <tr style=\"text-align: right;\">\n",
       "      <th></th>\n",
       "      <th>0</th>\n",
       "      <th>1</th>\n",
       "      <th>2</th>\n",
       "      <th>6</th>\n",
       "    </tr>\n",
       "  </thead>\n",
       "  <tbody>\n",
       "    <tr>\n",
       "      <th>0</th>\n",
       "      <td>chr1</td>\n",
       "      <td>544738</td>\n",
       "      <td>546649</td>\n",
       "      <td>2.800</td>\n",
       "    </tr>\n",
       "    <tr>\n",
       "      <th>1</th>\n",
       "      <td>chr1</td>\n",
       "      <td>713984</td>\n",
       "      <td>714547</td>\n",
       "      <td>16.000</td>\n",
       "    </tr>\n",
       "    <tr>\n",
       "      <th>2</th>\n",
       "      <td>chr1</td>\n",
       "      <td>762416</td>\n",
       "      <td>763445</td>\n",
       "      <td>23.000</td>\n",
       "    </tr>\n",
       "    <tr>\n",
       "      <th>3</th>\n",
       "      <td>chr1</td>\n",
       "      <td>805198</td>\n",
       "      <td>805628</td>\n",
       "      <td>39.000</td>\n",
       "    </tr>\n",
       "    <tr>\n",
       "      <th>4</th>\n",
       "      <td>chr1</td>\n",
       "      <td>839694</td>\n",
       "      <td>840619</td>\n",
       "      <td>71.675</td>\n",
       "    </tr>\n",
       "  </tbody>\n",
       "</table>\n",
       "</div>"
      ],
      "text/plain": [
       "      0       1       2       6\n",
       "0  chr1  544738  546649   2.800\n",
       "1  chr1  713984  714547  16.000\n",
       "2  chr1  762416  763445  23.000\n",
       "3  chr1  805198  805628  39.000\n",
       "4  chr1  839694  840619  71.675"
      ]
     },
     "execution_count": 295,
     "metadata": {},
     "output_type": "execute_result"
    }
   ],
   "source": [
    "interseq_sum = interseq[[0, 1, 2, 6]].groupby([0, 1, 2]).sum().reset_index()\n",
    "interseq_sum.head()"
   ]
  },
  {
   "cell_type": "markdown",
   "metadata": {},
   "source": [
    "График распределения количества СpG цитозинов в островах"
   ]
  },
  {
   "cell_type": "code",
   "execution_count": 298,
   "metadata": {},
   "outputs": [
    {
     "data": {
      "text/plain": [
       "<AxesSubplot:xlabel='6', ylabel='Count'>"
      ]
     },
     "execution_count": 298,
     "metadata": {},
     "output_type": "execute_result"
    },
    {
     "data": {
      "image/png": "[encoded data removed]",
      "text/plain": [
       "<Figure size 432x288 with 1 Axes>"
      ]
     },
     "metadata": {
      "needs_background": "light"
     },
     "output_type": "display_data"
    }
   ],
   "source": [
    "sns.histplot(data=interseq_sum, x=6)"
   ]
  },
  {
   "cell_type": "markdown",
   "metadata": {},
   "source": [
    "# 3. Рассчет метрики\n",
    "\n",
    "Сначала рассчитаем метрику для каждого цитозина и донора"
   ]
  },
  {
   "cell_type": "code",
   "execution_count": 312,
   "metadata": {},
   "outputs": [
    {
     "data": {
      "text/html": [
       "<div>\n",
       "<style scoped>\n",
       "    .dataframe tbody tr th:only-of-type {\n",
       "        vertical-align: middle;\n",
       "    }\n",
       "\n",
       "    .dataframe tbody tr th {\n",
       "        vertical-align: top;\n",
       "    }\n",
       "\n",
       "    .dataframe thead th {\n",
       "        text-align: right;\n",
       "    }\n",
       "</style>\n",
       "<table border=\"1\" class=\"dataframe\">\n",
       "  <thead>\n",
       "    <tr style=\"text-align: right;\">\n",
       "      <th></th>\n",
       "      <th>chr</th>\n",
       "      <th>base</th>\n",
       "      <th>chrBase</th>\n",
       "      <th>OD10</th>\n",
       "      <th>OD11</th>\n",
       "      <th>OD12</th>\n",
       "      <th>OD13</th>\n",
       "      <th>OD14</th>\n",
       "      <th>OD15</th>\n",
       "      <th>OD16</th>\n",
       "      <th>...</th>\n",
       "      <th>YD20</th>\n",
       "      <th>YD21</th>\n",
       "      <th>YD2</th>\n",
       "      <th>YD3</th>\n",
       "      <th>YD4</th>\n",
       "      <th>YD5</th>\n",
       "      <th>YD6</th>\n",
       "      <th>YD7</th>\n",
       "      <th>YD8</th>\n",
       "      <th>YD9</th>\n",
       "    </tr>\n",
       "  </thead>\n",
       "  <tbody>\n",
       "    <tr>\n",
       "      <th>932042</th>\n",
       "      <td>chr16</td>\n",
       "      <td>28835809</td>\n",
       "      <td>chr16.28835809</td>\n",
       "      <td>0.0</td>\n",
       "      <td>1.00036</td>\n",
       "      <td>2.0</td>\n",
       "      <td>0.00000</td>\n",
       "      <td>11.00035</td>\n",
       "      <td>0.0000</td>\n",
       "      <td>0.00000</td>\n",
       "      <td>...</td>\n",
       "      <td>0.00000</td>\n",
       "      <td>0.00000</td>\n",
       "      <td>0.00000</td>\n",
       "      <td>1.00007</td>\n",
       "      <td>0.0</td>\n",
       "      <td>0.00000</td>\n",
       "      <td>0.00000</td>\n",
       "      <td>0.0</td>\n",
       "      <td>1.00035</td>\n",
       "      <td>1.99983</td>\n",
       "    </tr>\n",
       "    <tr>\n",
       "      <th>2218092</th>\n",
       "      <td>chr6</td>\n",
       "      <td>7108530</td>\n",
       "      <td>chr6.7108530</td>\n",
       "      <td>0.0</td>\n",
       "      <td>0.00000</td>\n",
       "      <td>0.0</td>\n",
       "      <td>0.00000</td>\n",
       "      <td>0.00000</td>\n",
       "      <td>0.0000</td>\n",
       "      <td>0.00000</td>\n",
       "      <td>...</td>\n",
       "      <td>0.00000</td>\n",
       "      <td>0.00000</td>\n",
       "      <td>0.00000</td>\n",
       "      <td>0.00000</td>\n",
       "      <td>0.0</td>\n",
       "      <td>0.00000</td>\n",
       "      <td>0.00000</td>\n",
       "      <td>0.0</td>\n",
       "      <td>0.00000</td>\n",
       "      <td>0.00000</td>\n",
       "    </tr>\n",
       "    <tr>\n",
       "      <th>2225674</th>\n",
       "      <td>chr6</td>\n",
       "      <td>15662706</td>\n",
       "      <td>chr6.15662706</td>\n",
       "      <td>0.0</td>\n",
       "      <td>0.00000</td>\n",
       "      <td>0.0</td>\n",
       "      <td>0.00000</td>\n",
       "      <td>0.00000</td>\n",
       "      <td>0.0000</td>\n",
       "      <td>0.00000</td>\n",
       "      <td>...</td>\n",
       "      <td>0.00000</td>\n",
       "      <td>0.00000</td>\n",
       "      <td>0.00000</td>\n",
       "      <td>0.00000</td>\n",
       "      <td>0.0</td>\n",
       "      <td>0.00000</td>\n",
       "      <td>0.00000</td>\n",
       "      <td>0.0</td>\n",
       "      <td>0.00000</td>\n",
       "      <td>0.00000</td>\n",
       "    </tr>\n",
       "    <tr>\n",
       "      <th>1424693</th>\n",
       "      <td>chr19</td>\n",
       "      <td>50831995</td>\n",
       "      <td>chr19.50831995</td>\n",
       "      <td>2.0</td>\n",
       "      <td>0.00000</td>\n",
       "      <td>0.0</td>\n",
       "      <td>0.00000</td>\n",
       "      <td>0.00000</td>\n",
       "      <td>4.9998</td>\n",
       "      <td>0.00000</td>\n",
       "      <td>...</td>\n",
       "      <td>0.00000</td>\n",
       "      <td>0.00000</td>\n",
       "      <td>0.00000</td>\n",
       "      <td>0.00000</td>\n",
       "      <td>0.0</td>\n",
       "      <td>0.00000</td>\n",
       "      <td>0.00000</td>\n",
       "      <td>0.0</td>\n",
       "      <td>0.00000</td>\n",
       "      <td>0.00000</td>\n",
       "    </tr>\n",
       "    <tr>\n",
       "      <th>176833</th>\n",
       "      <td>chr1</td>\n",
       "      <td>159902334</td>\n",
       "      <td>chr1.159902334</td>\n",
       "      <td>54.0</td>\n",
       "      <td>72.00012</td>\n",
       "      <td>67.0</td>\n",
       "      <td>95.99982</td>\n",
       "      <td>43.00000</td>\n",
       "      <td>39.0000</td>\n",
       "      <td>66.00012</td>\n",
       "      <td>...</td>\n",
       "      <td>34.00005</td>\n",
       "      <td>55.99983</td>\n",
       "      <td>90.99958</td>\n",
       "      <td>36.00000</td>\n",
       "      <td>37.0</td>\n",
       "      <td>36.99984</td>\n",
       "      <td>44.99996</td>\n",
       "      <td>35.0</td>\n",
       "      <td>45.99984</td>\n",
       "      <td>39.00015</td>\n",
       "    </tr>\n",
       "  </tbody>\n",
       "</table>\n",
       "<p>5 rows × 43 columns</p>\n",
       "</div>"
      ],
      "text/plain": [
       "           chr       base         chrBase  OD10      OD11  OD12      OD13  \\\n",
       "932042   chr16   28835809  chr16.28835809   0.0   1.00036   2.0   0.00000   \n",
       "2218092   chr6    7108530    chr6.7108530   0.0   0.00000   0.0   0.00000   \n",
       "2225674   chr6   15662706   chr6.15662706   0.0   0.00000   0.0   0.00000   \n",
       "1424693  chr19   50831995  chr19.50831995   2.0   0.00000   0.0   0.00000   \n",
       "176833    chr1  159902334  chr1.159902334  54.0  72.00012  67.0  95.99982   \n",
       "\n",
       "             OD14     OD15      OD16  ...      YD20      YD21       YD2  \\\n",
       "932042   11.00035   0.0000   0.00000  ...   0.00000   0.00000   0.00000   \n",
       "2218092   0.00000   0.0000   0.00000  ...   0.00000   0.00000   0.00000   \n",
       "2225674   0.00000   0.0000   0.00000  ...   0.00000   0.00000   0.00000   \n",
       "1424693   0.00000   4.9998   0.00000  ...   0.00000   0.00000   0.00000   \n",
       "176833   43.00000  39.0000  66.00012  ...  34.00005  55.99983  90.99958   \n",
       "\n",
       "              YD3   YD4       YD5       YD6   YD7       YD8       YD9  \n",
       "932042    1.00007   0.0   0.00000   0.00000   0.0   1.00035   1.99983  \n",
       "2218092   0.00000   0.0   0.00000   0.00000   0.0   0.00000   0.00000  \n",
       "2225674   0.00000   0.0   0.00000   0.00000   0.0   0.00000   0.00000  \n",
       "1424693   0.00000   0.0   0.00000   0.00000   0.0   0.00000   0.00000  \n",
       "176833   36.00000  37.0  36.99984  44.99996  35.0  45.99984  39.00015  \n",
       "\n",
       "[5 rows x 43 columns]"
      ]
     },
     "execution_count": 312,
     "metadata": {},
     "output_type": "execute_result"
    }
   ],
   "source": [
    "metrics_cyt = filtered_cytosines_freq.copy()\n",
    "metrics_cyt.iloc[:, 3:] = (filtered_cytosines_freq.iloc[:, 3:] / 100) * filtered_cytosines_coverage.iloc[:, 3:]\n",
    "metrics_cyt.sample(5)"
   ]
  },
  {
   "cell_type": "markdown",
   "metadata": {},
   "source": [
    "Теперь сджойним пересечения полученные в предыдущем пункте и таблицу с метрикой и посчитаем метрику для каждого острова"
   ]
  },
  {
   "cell_type": "code",
   "execution_count": 319,
   "metadata": {},
   "outputs": [],
   "source": [
    "interseq['chrBase'] = interseq[3] + '.' + interseq[4].astype(str)\n",
    "interseq = interseq.set_index(['chrBase'])"
   ]
  },
  {
   "cell_type": "code",
   "execution_count": 321,
   "metadata": {},
   "outputs": [],
   "source": [
    "metrics_cyt = metrics_cyt.set_index(['chrBase'])"
   ]
  },
  {
   "cell_type": "code",
   "execution_count": 340,
   "metadata": {},
   "outputs": [],
   "source": [
    "interseq_metrics = interseq.join(metrics_cyt, how='left')"
   ]
  },
  {
   "cell_type": "markdown",
   "metadata": {},
   "source": [
    "Посчитаем метрику для каждого острова просуммировав"
   ]
  },
  {
   "cell_type": "code",
   "execution_count": 341,
   "metadata": {},
   "outputs": [
    {
     "data": {
      "text/html": [
       "<div>\n",
       "<style scoped>\n",
       "    .dataframe tbody tr th:only-of-type {\n",
       "        vertical-align: middle;\n",
       "    }\n",
       "\n",
       "    .dataframe tbody tr th {\n",
       "        vertical-align: top;\n",
       "    }\n",
       "\n",
       "    .dataframe thead th {\n",
       "        text-align: right;\n",
       "    }\n",
       "</style>\n",
       "<table border=\"1\" class=\"dataframe\">\n",
       "  <thead>\n",
       "    <tr style=\"text-align: right;\">\n",
       "      <th></th>\n",
       "      <th>0</th>\n",
       "      <th>1</th>\n",
       "      <th>2</th>\n",
       "      <th>6</th>\n",
       "      <th>OD10</th>\n",
       "      <th>OD11</th>\n",
       "      <th>OD12</th>\n",
       "      <th>OD13</th>\n",
       "      <th>OD14</th>\n",
       "      <th>OD15</th>\n",
       "      <th>...</th>\n",
       "      <th>YD20</th>\n",
       "      <th>YD21</th>\n",
       "      <th>YD2</th>\n",
       "      <th>YD3</th>\n",
       "      <th>YD4</th>\n",
       "      <th>YD5</th>\n",
       "      <th>YD6</th>\n",
       "      <th>YD7</th>\n",
       "      <th>YD8</th>\n",
       "      <th>YD9</th>\n",
       "    </tr>\n",
       "  </thead>\n",
       "  <tbody>\n",
       "    <tr>\n",
       "      <th>0</th>\n",
       "      <td>chr1</td>\n",
       "      <td>544738</td>\n",
       "      <td>546649</td>\n",
       "      <td>2.800</td>\n",
       "      <td>0.00000</td>\n",
       "      <td>51.00001</td>\n",
       "      <td>42.99972</td>\n",
       "      <td>0.00000</td>\n",
       "      <td>26.99982</td>\n",
       "      <td>26.99999</td>\n",
       "      <td>...</td>\n",
       "      <td>0.00000</td>\n",
       "      <td>150.99960</td>\n",
       "      <td>36.99975</td>\n",
       "      <td>0.00000</td>\n",
       "      <td>0.00000</td>\n",
       "      <td>33.99995</td>\n",
       "      <td>31.99980</td>\n",
       "      <td>0.00000</td>\n",
       "      <td>36.00000</td>\n",
       "      <td>5.00000</td>\n",
       "    </tr>\n",
       "    <tr>\n",
       "      <th>1</th>\n",
       "      <td>chr1</td>\n",
       "      <td>713984</td>\n",
       "      <td>714547</td>\n",
       "      <td>16.000</td>\n",
       "      <td>0.00000</td>\n",
       "      <td>0.99981</td>\n",
       "      <td>0.00000</td>\n",
       "      <td>1.00001</td>\n",
       "      <td>3.99996</td>\n",
       "      <td>0.00000</td>\n",
       "      <td>...</td>\n",
       "      <td>1.99995</td>\n",
       "      <td>0.00000</td>\n",
       "      <td>0.00000</td>\n",
       "      <td>0.99960</td>\n",
       "      <td>0.00000</td>\n",
       "      <td>0.00000</td>\n",
       "      <td>0.00000</td>\n",
       "      <td>1.99973</td>\n",
       "      <td>1.99994</td>\n",
       "      <td>3.99968</td>\n",
       "    </tr>\n",
       "    <tr>\n",
       "      <th>2</th>\n",
       "      <td>chr1</td>\n",
       "      <td>762416</td>\n",
       "      <td>763445</td>\n",
       "      <td>23.000</td>\n",
       "      <td>1.00004</td>\n",
       "      <td>0.00000</td>\n",
       "      <td>0.00000</td>\n",
       "      <td>0.00000</td>\n",
       "      <td>0.99968</td>\n",
       "      <td>0.99970</td>\n",
       "      <td>...</td>\n",
       "      <td>1.00014</td>\n",
       "      <td>0.00000</td>\n",
       "      <td>1.00014</td>\n",
       "      <td>3.99955</td>\n",
       "      <td>0.00000</td>\n",
       "      <td>1.00005</td>\n",
       "      <td>3.00080</td>\n",
       "      <td>11.00019</td>\n",
       "      <td>1.00016</td>\n",
       "      <td>0.99981</td>\n",
       "    </tr>\n",
       "    <tr>\n",
       "      <th>3</th>\n",
       "      <td>chr1</td>\n",
       "      <td>805198</td>\n",
       "      <td>805628</td>\n",
       "      <td>39.000</td>\n",
       "      <td>66.00130</td>\n",
       "      <td>62.99972</td>\n",
       "      <td>16.00002</td>\n",
       "      <td>92.99984</td>\n",
       "      <td>60.99716</td>\n",
       "      <td>25.99956</td>\n",
       "      <td>...</td>\n",
       "      <td>87.99936</td>\n",
       "      <td>17.99924</td>\n",
       "      <td>48.99922</td>\n",
       "      <td>104.99937</td>\n",
       "      <td>143.99677</td>\n",
       "      <td>80.99906</td>\n",
       "      <td>138.99883</td>\n",
       "      <td>98.00015</td>\n",
       "      <td>70.00156</td>\n",
       "      <td>142.99874</td>\n",
       "    </tr>\n",
       "    <tr>\n",
       "      <th>4</th>\n",
       "      <td>chr1</td>\n",
       "      <td>839694</td>\n",
       "      <td>840619</td>\n",
       "      <td>71.675</td>\n",
       "      <td>37.99999</td>\n",
       "      <td>49.99972</td>\n",
       "      <td>134.00006</td>\n",
       "      <td>53.00018</td>\n",
       "      <td>55.99958</td>\n",
       "      <td>59.99977</td>\n",
       "      <td>...</td>\n",
       "      <td>84.99963</td>\n",
       "      <td>75.00046</td>\n",
       "      <td>79.00038</td>\n",
       "      <td>10.00055</td>\n",
       "      <td>75.00025</td>\n",
       "      <td>56.99953</td>\n",
       "      <td>49.99970</td>\n",
       "      <td>68.99926</td>\n",
       "      <td>64.00020</td>\n",
       "      <td>49.00083</td>\n",
       "    </tr>\n",
       "  </tbody>\n",
       "</table>\n",
       "<p>5 rows × 44 columns</p>\n",
       "</div>"
      ],
      "text/plain": [
       "      0       1       2       6      OD10      OD11       OD12      OD13  \\\n",
       "0  chr1  544738  546649   2.800   0.00000  51.00001   42.99972   0.00000   \n",
       "1  chr1  713984  714547  16.000   0.00000   0.99981    0.00000   1.00001   \n",
       "2  chr1  762416  763445  23.000   1.00004   0.00000    0.00000   0.00000   \n",
       "3  chr1  805198  805628  39.000  66.00130  62.99972   16.00002  92.99984   \n",
       "4  chr1  839694  840619  71.675  37.99999  49.99972  134.00006  53.00018   \n",
       "\n",
       "       OD14      OD15  ...      YD20       YD21       YD2        YD3  \\\n",
       "0  26.99982  26.99999  ...   0.00000  150.99960  36.99975    0.00000   \n",
       "1   3.99996   0.00000  ...   1.99995    0.00000   0.00000    0.99960   \n",
       "2   0.99968   0.99970  ...   1.00014    0.00000   1.00014    3.99955   \n",
       "3  60.99716  25.99956  ...  87.99936   17.99924  48.99922  104.99937   \n",
       "4  55.99958  59.99977  ...  84.99963   75.00046  79.00038   10.00055   \n",
       "\n",
       "         YD4       YD5        YD6       YD7       YD8        YD9  \n",
       "0    0.00000  33.99995   31.99980   0.00000  36.00000    5.00000  \n",
       "1    0.00000   0.00000    0.00000   1.99973   1.99994    3.99968  \n",
       "2    0.00000   1.00005    3.00080  11.00019   1.00016    0.99981  \n",
       "3  143.99677  80.99906  138.99883  98.00015  70.00156  142.99874  \n",
       "4   75.00025  56.99953   49.99970  68.99926  64.00020   49.00083  \n",
       "\n",
       "[5 rows x 44 columns]"
      ]
     },
     "execution_count": 341,
     "metadata": {},
     "output_type": "execute_result"
    }
   ],
   "source": [
    "columns = [0, 1, 2, 6]\n",
    "columns.extend(interseq_metrics.columns[9:])\n",
    "interseq_metrics = interseq_metrics[columns]\n",
    "interseq_metrics_sum = interseq_metrics.groupby([0, 1, 2]).sum().reset_index()\n",
    "interseq_metrics_sum.head()"
   ]
  },
  {
   "cell_type": "code",
   "execution_count": 342,
   "metadata": {},
   "outputs": [
    {
     "data": {
      "text/plain": [
       "(24128, 44)"
      ]
     },
     "execution_count": 342,
     "metadata": {},
     "output_type": "execute_result"
    }
   ],
   "source": [
    "interseq_metrics_sum.shape"
   ]
  },
  {
   "cell_type": "markdown",
   "metadata": {},
   "source": [
    "\"Оставьте только те острова, в которых как минимум 4 покрытых СpG\", тут можно считать по разному, минимум 4 для каждого донора или минимум 4 хоть для одного донора, я считал минимум 4 по метрике рассчитанной в предыдещем пункте (здесь она аналгично рассчитана в колонке с именем 6)"
   ]
  },
  {
   "cell_type": "code",
   "execution_count": 343,
   "metadata": {},
   "outputs": [
    {
     "data": {
      "text/plain": [
       "(23418, 44)"
      ]
     },
     "execution_count": 343,
     "metadata": {},
     "output_type": "execute_result"
    }
   ],
   "source": [
    "interseq_metrics_sum_filt = interseq_metrics_sum[interseq_metrics_sum[6] >= 4]\n",
    "interseq_metrics_sum_filt.shape"
   ]
  },
  {
   "cell_type": "markdown",
   "metadata": {},
   "source": [
    "Переименовываем колонки и сохраняем результат"
   ]
  },
  {
   "cell_type": "code",
   "execution_count": 350,
   "metadata": {},
   "outputs": [
    {
     "data": {
      "text/html": [
       "<div>\n",
       "<style scoped>\n",
       "    .dataframe tbody tr th:only-of-type {\n",
       "        vertical-align: middle;\n",
       "    }\n",
       "\n",
       "    .dataframe tbody tr th {\n",
       "        vertical-align: top;\n",
       "    }\n",
       "\n",
       "    .dataframe thead th {\n",
       "        text-align: right;\n",
       "    }\n",
       "</style>\n",
       "<table border=\"1\" class=\"dataframe\">\n",
       "  <thead>\n",
       "    <tr style=\"text-align: right;\">\n",
       "      <th></th>\n",
       "      <th>chr</th>\n",
       "      <th>start</th>\n",
       "      <th>end</th>\n",
       "      <th>OD10</th>\n",
       "      <th>OD11</th>\n",
       "      <th>OD12</th>\n",
       "      <th>OD13</th>\n",
       "      <th>OD14</th>\n",
       "      <th>OD15</th>\n",
       "      <th>OD16</th>\n",
       "      <th>...</th>\n",
       "      <th>YD20</th>\n",
       "      <th>YD21</th>\n",
       "      <th>YD2</th>\n",
       "      <th>YD3</th>\n",
       "      <th>YD4</th>\n",
       "      <th>YD5</th>\n",
       "      <th>YD6</th>\n",
       "      <th>YD7</th>\n",
       "      <th>YD8</th>\n",
       "      <th>YD9</th>\n",
       "    </tr>\n",
       "  </thead>\n",
       "  <tbody>\n",
       "    <tr>\n",
       "      <th>1</th>\n",
       "      <td>chr1</td>\n",
       "      <td>713984</td>\n",
       "      <td>714547</td>\n",
       "      <td>0.00000</td>\n",
       "      <td>0.99981</td>\n",
       "      <td>0.00000</td>\n",
       "      <td>1.00001</td>\n",
       "      <td>3.99996</td>\n",
       "      <td>0.00000</td>\n",
       "      <td>0.99994</td>\n",
       "      <td>...</td>\n",
       "      <td>1.99995</td>\n",
       "      <td>0.00000</td>\n",
       "      <td>0.00000</td>\n",
       "      <td>0.99960</td>\n",
       "      <td>0.00000</td>\n",
       "      <td>0.00000</td>\n",
       "      <td>0.00000</td>\n",
       "      <td>1.99973</td>\n",
       "      <td>1.99994</td>\n",
       "      <td>3.99968</td>\n",
       "    </tr>\n",
       "    <tr>\n",
       "      <th>2</th>\n",
       "      <td>chr1</td>\n",
       "      <td>762416</td>\n",
       "      <td>763445</td>\n",
       "      <td>1.00004</td>\n",
       "      <td>0.00000</td>\n",
       "      <td>0.00000</td>\n",
       "      <td>0.00000</td>\n",
       "      <td>0.99968</td>\n",
       "      <td>0.99970</td>\n",
       "      <td>0.99969</td>\n",
       "      <td>...</td>\n",
       "      <td>1.00014</td>\n",
       "      <td>0.00000</td>\n",
       "      <td>1.00014</td>\n",
       "      <td>3.99955</td>\n",
       "      <td>0.00000</td>\n",
       "      <td>1.00005</td>\n",
       "      <td>3.00080</td>\n",
       "      <td>11.00019</td>\n",
       "      <td>1.00016</td>\n",
       "      <td>0.99981</td>\n",
       "    </tr>\n",
       "    <tr>\n",
       "      <th>3</th>\n",
       "      <td>chr1</td>\n",
       "      <td>805198</td>\n",
       "      <td>805628</td>\n",
       "      <td>66.00130</td>\n",
       "      <td>62.99972</td>\n",
       "      <td>16.00002</td>\n",
       "      <td>92.99984</td>\n",
       "      <td>60.99716</td>\n",
       "      <td>25.99956</td>\n",
       "      <td>61.99945</td>\n",
       "      <td>...</td>\n",
       "      <td>87.99936</td>\n",
       "      <td>17.99924</td>\n",
       "      <td>48.99922</td>\n",
       "      <td>104.99937</td>\n",
       "      <td>143.99677</td>\n",
       "      <td>80.99906</td>\n",
       "      <td>138.99883</td>\n",
       "      <td>98.00015</td>\n",
       "      <td>70.00156</td>\n",
       "      <td>142.99874</td>\n",
       "    </tr>\n",
       "    <tr>\n",
       "      <th>4</th>\n",
       "      <td>chr1</td>\n",
       "      <td>839694</td>\n",
       "      <td>840619</td>\n",
       "      <td>37.99999</td>\n",
       "      <td>49.99972</td>\n",
       "      <td>134.00006</td>\n",
       "      <td>53.00018</td>\n",
       "      <td>55.99958</td>\n",
       "      <td>59.99977</td>\n",
       "      <td>28.00082</td>\n",
       "      <td>...</td>\n",
       "      <td>84.99963</td>\n",
       "      <td>75.00046</td>\n",
       "      <td>79.00038</td>\n",
       "      <td>10.00055</td>\n",
       "      <td>75.00025</td>\n",
       "      <td>56.99953</td>\n",
       "      <td>49.99970</td>\n",
       "      <td>68.99926</td>\n",
       "      <td>64.00020</td>\n",
       "      <td>49.00083</td>\n",
       "    </tr>\n",
       "    <tr>\n",
       "      <th>5</th>\n",
       "      <td>chr1</td>\n",
       "      <td>844299</td>\n",
       "      <td>845883</td>\n",
       "      <td>785.00036</td>\n",
       "      <td>618.99948</td>\n",
       "      <td>276.00071</td>\n",
       "      <td>330.99974</td>\n",
       "      <td>725.99970</td>\n",
       "      <td>568.99964</td>\n",
       "      <td>988.00321</td>\n",
       "      <td>...</td>\n",
       "      <td>929.00131</td>\n",
       "      <td>391.00072</td>\n",
       "      <td>408.99948</td>\n",
       "      <td>766.99938</td>\n",
       "      <td>814.99969</td>\n",
       "      <td>764.00081</td>\n",
       "      <td>634.00363</td>\n",
       "      <td>1017.99855</td>\n",
       "      <td>735.00243</td>\n",
       "      <td>1150.00059</td>\n",
       "    </tr>\n",
       "  </tbody>\n",
       "</table>\n",
       "<p>5 rows × 43 columns</p>\n",
       "</div>"
      ],
      "text/plain": [
       "    chr   start     end       OD10       OD11       OD12       OD13  \\\n",
       "1  chr1  713984  714547    0.00000    0.99981    0.00000    1.00001   \n",
       "2  chr1  762416  763445    1.00004    0.00000    0.00000    0.00000   \n",
       "3  chr1  805198  805628   66.00130   62.99972   16.00002   92.99984   \n",
       "4  chr1  839694  840619   37.99999   49.99972  134.00006   53.00018   \n",
       "5  chr1  844299  845883  785.00036  618.99948  276.00071  330.99974   \n",
       "\n",
       "        OD14       OD15       OD16  ...       YD20       YD21        YD2  \\\n",
       "1    3.99996    0.00000    0.99994  ...    1.99995    0.00000    0.00000   \n",
       "2    0.99968    0.99970    0.99969  ...    1.00014    0.00000    1.00014   \n",
       "3   60.99716   25.99956   61.99945  ...   87.99936   17.99924   48.99922   \n",
       "4   55.99958   59.99977   28.00082  ...   84.99963   75.00046   79.00038   \n",
       "5  725.99970  568.99964  988.00321  ...  929.00131  391.00072  408.99948   \n",
       "\n",
       "         YD3        YD4        YD5        YD6         YD7        YD8  \\\n",
       "1    0.99960    0.00000    0.00000    0.00000     1.99973    1.99994   \n",
       "2    3.99955    0.00000    1.00005    3.00080    11.00019    1.00016   \n",
       "3  104.99937  143.99677   80.99906  138.99883    98.00015   70.00156   \n",
       "4   10.00055   75.00025   56.99953   49.99970    68.99926   64.00020   \n",
       "5  766.99938  814.99969  764.00081  634.00363  1017.99855  735.00243   \n",
       "\n",
       "          YD9  \n",
       "1     3.99968  \n",
       "2     0.99981  \n",
       "3   142.99874  \n",
       "4    49.00083  \n",
       "5  1150.00059  \n",
       "\n",
       "[5 rows x 43 columns]"
      ]
     },
     "execution_count": 350,
     "metadata": {},
     "output_type": "execute_result"
    }
   ],
   "source": [
    "interseq_metrics_sum_filt_res = interseq_metrics_sum_filt.drop([6], axis=1)\n",
    "interseq_metrics_sum_filt_res = interseq_metrics_sum_filt_res.rename(columns={0: \"chr\", 1: \"start\", 2: \"end\"})\n",
    "interseq_metrics_sum_filt_res.head()"
   ]
  },
  {
   "cell_type": "code",
   "execution_count": 351,
   "metadata": {},
   "outputs": [],
   "source": [
    "interseq_metrics_sum_filt_res.to_csv('result/result_table.csv')"
   ]
  },
  {
   "cell_type": "markdown",
   "metadata": {},
   "source": [
    "# 4. Проведите анализ главных компонент для уровней метилирования в CpG островах"
   ]
  },
  {
   "cell_type": "code",
   "execution_count": 367,
   "metadata": {},
   "outputs": [],
   "source": [
    "island_metrics = interseq_metrics_sum_filt_res.copy()\n",
    "island_metrics['island'] = island_metrics.chr + '.' + island_metrics.start.astype(str) + '.' + island_metrics.end.astype(str)\n",
    "island_metrics = island_metrics.set_index(['island'])\n",
    "island_metrics = island_metrics.drop(['chr', 'start', 'end'], axis=1)"
   ]
  },
  {
   "cell_type": "markdown",
   "metadata": {},
   "source": [
    "В начале делаем скейлинг, потом PCA"
   ]
  },
  {
   "cell_type": "code",
   "execution_count": 380,
   "metadata": {},
   "outputs": [],
   "source": [
    "island_metrics_scaled = StandardScaler().fit_transform(island_metrics)\n",
    "pca = PCA(n_components=2)\n",
    "components = pca.fit_transform(island_metrics_scaled)\n",
    "components = pd.DataFrame(components)"
   ]
  },
  {
   "cell_type": "code",
   "execution_count": 383,
   "metadata": {},
   "outputs": [
    {
     "data": {
      "text/plain": [
       "<AxesSubplot:xlabel='0', ylabel='1'>"
      ]
     },
     "execution_count": 383,
     "metadata": {},
     "output_type": "execute_result"
    },
    {
     "data": {
      "image/png": "[encoded data removed]",
      "text/plain": [
       "<Figure size 432x288 with 1 Axes>"
      ]
     },
     "metadata": {
      "needs_background": "light"
     },
     "output_type": "display_data"
    }
   ],
   "source": [
    "sns.scatterplot(data=components, x=0, y=1)"
   ]
  },
  {
   "cell_type": "markdown",
   "metadata": {},
   "source": [
    "# 5. Усредните значение по всем донорам и постройте график распределения этой величины"
   ]
  },
  {
   "cell_type": "code",
   "execution_count": 389,
   "metadata": {},
   "outputs": [],
   "source": [
    "me = island_metrics.mean(axis=1)"
   ]
  },
  {
   "cell_type": "code",
   "execution_count": 393,
   "metadata": {},
   "outputs": [
    {
     "data": {
      "text/plain": [
       "(0.0, 1000.0)"
      ]
     },
     "execution_count": 393,
     "metadata": {},
     "output_type": "execute_result"
    },
    {
     "data": {
      "image/png": "[encoded data removed]",
      "text/plain": [
       "<Figure size 432x288 with 1 Axes>"
      ]
     },
     "metadata": {
      "needs_background": "light"
     },
     "output_type": "display_data"
    }
   ],
   "source": [
    "sns.histplot(data=me)\n",
    "plt.xlim(0, 1000)"
   ]
  },
  {
   "cell_type": "markdown",
   "metadata": {},
   "source": [
    "# 6. Посчитайте аналогичную метрику среднего уровня метилирования, но не для каждого острова по отдельности, а для объединения всех островов"
   ]
  },
  {
   "cell_type": "code",
   "execution_count": 407,
   "metadata": {},
   "outputs": [],
   "source": [
    "od = island_metrics.mean(axis=0)[:20].values\n",
    "yd = island_metrics.mean(axis=0)[20:].values\n",
    "df = pd.DataFrame([od, yd]).T\n",
    "df = df.rename({0: 'OD', 1:'YD'}, axis=1)"
   ]
  },
  {
   "cell_type": "code",
   "execution_count": 410,
   "metadata": {},
   "outputs": [
    {
     "data": {
      "image/png": "[encoded data removed]",
      "text/plain": [
       "<Figure size 432x288 with 1 Axes>"
      ]
     },
     "metadata": {
      "needs_background": "light"
     },
     "output_type": "display_data"
    }
   ],
   "source": [
    "sns.boxplot(x=\"variable\", y=\"value\", data=pd.melt(df))\n",
    "sns.stripplot(x=\"variable\", y=\"value\", data=pd.melt(df))\n",
    "plt.show()"
   ]
  }
 ],
 "metadata": {
  "kernelspec": {
   "display_name": "Python 3",
   "language": "python",
   "name": "python3"
  },
  "language_info": {
   "codemirror_mode": {
    "name": "ipython",
    "version": 3
   },
   "file_extension": ".py",
   "mimetype": "text/x-python",
   "name": "python",
   "nbconvert_exporter": "python",
   "pygments_lexer": "ipython3",
   "version": "3.8.8"
  }
 },
 "nbformat": 4,
 "nbformat_minor": 1
}
